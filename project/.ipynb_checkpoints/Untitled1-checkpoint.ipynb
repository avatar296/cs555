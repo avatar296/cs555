{
 "cells": [
  {
   "cell_type": "code",
   "execution_count": 16,
   "id": "7b6a6ba2-dc59-47e7-87b6-0aa81d48b57d",
   "metadata": {},
   "outputs": [],
   "source": [
    "import pandas as pd"
   ]
  },
  {
   "cell_type": "code",
   "execution_count": 17,
   "id": "e77996ec-1c04-4c2d-b816-fd4b54f80485",
   "metadata": {},
   "outputs": [],
   "source": [
    "# import re, requests\n",
    "# from bs4 import BeautifulSoup\n",
    "\n",
    "# url = \"https://www.nyc.gov/site/tlc/about/tlc-trip-record-data.page\"\n",
    "# html = requests.get(url, timeout=60).text\n",
    "# soup = BeautifulSoup(html, \"html.parser\")\n",
    "# urls = sorted({\n",
    "#     a[\"href\"] for a in soup.select(\"a[href]\")\n",
    "#     if re.match(r\"https://d37ci6vzurychx\\.cloudfront\\.net/trip-data/[a-z]+_tripdata_\\d{4}-\\d{2}\\.parquet\", a[\"href\"])\n",
    "# })\n",
    "# print(\"\\n\".join(urls))"
   ]
  },
  {
   "cell_type": "code",
   "execution_count": 21,
   "id": "691c6d60-adfd-4523-aaa7-4d74a9716a1f",
   "metadata": {},
   "outputs": [
    {
     "name": "stdout",
     "output_type": "stream",
     "text": [
      "   VendorID tpep_pickup_datetime tpep_dropoff_datetime  passenger_count  \\\n",
      "0         1  2024-07-01 00:34:56   2024-07-01 00:46:49                1   \n",
      "1         2  2024-06-30 23:48:58   2024-07-01 00:28:04                1   \n",
      "2         2  2024-07-01 00:23:18   2024-07-01 00:29:51                1   \n",
      "3         1  2024-07-01 00:10:33   2024-07-01 00:27:31                0   \n",
      "4         1  2024-07-01 00:07:55   2024-07-01 00:34:34                1   \n",
      "\n",
      "   trip_distance  RatecodeID store_and_fwd_flag  PULocationID  DOLocationID  \\\n",
      "0           3.20           1                  N           140            79   \n",
      "1          19.48           2                  N           132           113   \n",
      "2           1.18           1                  N           237           145   \n",
      "3           9.10           1                  N           138           164   \n",
      "4          17.70           2                  N           132           263   \n",
      "\n",
      "   payment_type  fare_amount  extra  mta_tax  tip_amount  tolls_amount  \\\n",
      "0             1         15.6   3.50      0.5        3.50          0.00   \n",
      "1             2         70.0   0.00      0.5        0.00          0.00   \n",
      "2             1          8.6   1.00      0.5        2.72          0.00   \n",
      "3             1         36.6  10.25      0.5       12.05          0.00   \n",
      "4             1         70.0   1.75      0.5       10.00          6.94   \n",
      "\n",
      "   improvement_surcharge  total_amount  congestion_surcharge  Airport_fee  \n",
      "0                    1.0         24.10                   2.5         0.00  \n",
      "1                    1.0         75.75                   2.5         1.75  \n",
      "2                    1.0         16.32                   2.5         0.00  \n",
      "3                    1.0         60.40                   2.5         1.75  \n",
      "4                    1.0         90.19                   0.0         1.75  \n"
     ]
    }
   ],
   "source": [
    "import duckdb\n",
    "con = duckdb.connect()\n",
    "con.execute(\"INSTALL httpfs; LOAD httpfs;\")\n",
    "\n",
    "url = \"https://d37ci6vzurychx.cloudfront.net/trip-data/yellow_tripdata_2024-07.parquet\"\n",
    "df = con.execute(f\"SELECT * FROM read_parquet('{url}') LIMIT 5\").df()\n",
    "print(df.head())"
   ]
  },
  {
   "cell_type": "code",
   "execution_count": 23,
   "id": "a8b4743a-6842-4c44-ad35-6d3356dc6e38",
   "metadata": {},
   "outputs": [
    {
     "name": "stderr",
     "output_type": "stream",
     "text": [
      "Python(58194,0x1751a3000) malloc: Failed to allocate segment from range group - out of space\n"
     ]
    },
    {
     "ename": "BinderException",
     "evalue": "Binder Error: Referenced column \"tpepPickupDatetime\" not found in FROM clause!\nCandidate bindings: \"tpep_pickup_datetime\", \"tpep_dropoff_datetime\", \"trip_distance\", \"improvement_surcharge\", \"tip_amount\"\n\nLINE 2:   SELECT DATE_TRUNC('month', tpepPickupDatetime) AS month, COUNT(*) AS trips\n                                     ^",
     "output_type": "error",
     "traceback": [
      "\u001b[31m---------------------------------------------------------------------------\u001b[39m",
      "\u001b[31mBinderException\u001b[39m                           Traceback (most recent call last)",
      "\u001b[36mCell\u001b[39m\u001b[36m \u001b[39m\u001b[32mIn[23]\u001b[39m\u001b[32m, line 14\u001b[39m\n\u001b[32m     11\u001b[39m con.execute(\u001b[33m\"\u001b[39m\u001b[33mCREATE OR REPLACE TABLE yellow AS SELECT * FROM read_parquet(?);\u001b[39m\u001b[33m\"\u001b[39m, [urls])\n\u001b[32m     13\u001b[39m \u001b[38;5;66;03m# Example query\u001b[39;00m\n\u001b[32m---> \u001b[39m\u001b[32m14\u001b[39m \u001b[38;5;28mprint\u001b[39m(\u001b[43mcon\u001b[49m\u001b[43m.\u001b[49m\u001b[43mexecute\u001b[49m\u001b[43m(\u001b[49m\u001b[33;43m\"\"\"\u001b[39;49m\n\u001b[32m     15\u001b[39m \u001b[33;43m  SELECT DATE_TRUNC(\u001b[39;49m\u001b[33;43m'\u001b[39;49m\u001b[33;43mmonth\u001b[39;49m\u001b[33;43m'\u001b[39;49m\u001b[33;43m, tpepPickupDatetime) AS month, COUNT(*) AS trips\u001b[39;49m\n\u001b[32m     16\u001b[39m \u001b[33;43m  FROM yellow\u001b[39;49m\n\u001b[32m     17\u001b[39m \u001b[33;43m  GROUP BY month ORDER BY month\u001b[39;49m\n\u001b[32m     18\u001b[39m \u001b[33;43m\"\"\"\u001b[39;49m\u001b[43m)\u001b[49m.df().head())\n",
      "\u001b[31mBinderException\u001b[39m: Binder Error: Referenced column \"tpepPickupDatetime\" not found in FROM clause!\nCandidate bindings: \"tpep_pickup_datetime\", \"tpep_dropoff_datetime\", \"trip_distance\", \"improvement_surcharge\", \"tip_amount\"\n\nLINE 2:   SELECT DATE_TRUNC('month', tpepPickupDatetime) AS month, COUNT(*) AS trips\n                                     ^"
     ]
    }
   ],
   "source": [
    "import duckdb\n",
    "con = duckdb.connect()\n",
    "con.execute(\"INSTALL httpfs; LOAD httpfs;\")\n",
    "\n",
    "base = \"https://d37ci6vzurychx.cloudfront.net/trip-data/\"\n",
    "years = [2023, 2024]                       # <- add more years if you want\n",
    "urls = [f\"{base}yellow_tripdata_{y}-{m:02d}.parquet\"\n",
    "        for y in years for m in range(1,13)]\n",
    "\n",
    "# Create a table from ALL matching files\n",
    "con.execute(\"CREATE OR REPLACE TABLE yellow AS SELECT * FROM read_parquet(?);\", [urls])\n",
    "\n",
    "# Example query\n",
    "print(con.execute(\"\"\"\n",
    "  SELECT DATE_TRUNC('month', tpepPickupDatetime) AS month, COUNT(*) AS trips\n",
    "  FROM yellow\n",
    "  GROUP BY month ORDER BY month\n",
    "\"\"\").df().head())\n"
   ]
  },
  {
   "cell_type": "code",
   "execution_count": null,
   "id": "fb854db7-54a8-4bc9-9717-1ceeb21be3b3",
   "metadata": {},
   "outputs": [],
   "source": []
  }
 ],
 "metadata": {
  "kernelspec": {
   "display_name": "Project venv (Python 3.13)",
   "language": "python",
   "name": "project_venv"
  },
  "language_info": {
   "codemirror_mode": {
    "name": "ipython",
    "version": 3
   },
   "file_extension": ".py",
   "mimetype": "text/x-python",
   "name": "python",
   "nbconvert_exporter": "python",
   "pygments_lexer": "ipython3",
   "version": "3.13.3"
  }
 },
 "nbformat": 4,
 "nbformat_minor": 5
}
